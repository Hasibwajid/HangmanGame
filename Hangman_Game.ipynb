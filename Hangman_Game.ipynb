{
  "nbformat": 4,
  "nbformat_minor": 0,
  "metadata": {
    "colab": {
      "provenance": []
    },
    "kernelspec": {
      "name": "python3",
      "display_name": "Python 3"
    },
    "language_info": {
      "name": "python"
    }
  },
  "cells": [
    {
      "cell_type": "markdown",
      "source": [
        "# FLow\n",
        "\n",
        "- The program selects a random word.\n",
        "\n",
        "- The user is asked to guess one character at a time. If the guessed character is correct, it is placed in its correct position(s) in the word.\n",
        "\n",
        "- The user has 4 attempts to guess each character.\n",
        "\n",
        "- If the user fails to guess a character correctly within 4 tries, the game is over.\n",
        "\n",
        "- If the user guesses the character correctly, they proceed to the next character guess until the entire word is completed."
      ],
      "metadata": {
        "id": "qcC8f5p3XvjC"
      }
    },
    {
      "cell_type": "code",
      "source": [
        "import random"
      ],
      "metadata": {
        "id": "TANHGUnlY44H"
      },
      "execution_count": 2,
      "outputs": []
    },
    {
      "cell_type": "code",
      "execution_count": 10,
      "metadata": {
        "colab": {
          "base_uri": "https://localhost:8080/"
        },
        "id": "LIlzosNLXrZU",
        "outputId": "fc08776f-f307-4907-b118-9d8c73be0d17"
      },
      "outputs": [
        {
          "output_type": "stream",
          "name": "stdout",
          "text": [
            "tiger\n"
          ]
        }
      ],
      "source": [
        "words = ['lion', 'cat', 'tiger', 'dog','elephant']\n",
        "\n",
        "random_word = random.choice(words)\n",
        "\n",
        "print(random_word)"
      ]
    },
    {
      "cell_type": "code",
      "source": [
        "# Words categorized by their types and languages\n",
        "categories = {\n",
        "    'en': {\n",
        "        'Animals': ['lion', 'cat', 'tiger', 'dog', 'elephant'],\n",
        "        'Objects': ['table', 'chair', 'lamp', 'phone', 'pencil'],\n",
        "        'Fruits': ['apple', 'banana', 'cherry', 'grape', 'orange'],\n",
        "        'Countries': ['brazil', 'canada', 'china', 'france', 'germany']\n",
        "    },\n",
        "    'es': {\n",
        "        'Animales': ['león', 'gato', 'tigre', 'perro', 'elefante'],\n",
        "        'Objetos': ['mesa', 'silla', 'lámpara', 'teléfono', 'lápiz'],\n",
        "        'Frutas': ['manzana', 'plátano', 'cereza', 'uva', 'naranja'],\n",
        "        'Países': ['brasil', 'canadá', 'china', 'francia', 'alemania']\n",
        "    }\n",
        "}\n",
        "\n",
        "languages = {'en': 'English', 'es': 'Español'}\n",
        "current_language = 'en'\n",
        "category, words = random.choice(list(categories[current_language].items()))\n",
        "random_word = random.choice(words)\n",
        "guessed_word = ['_'] * len(random_word)\n",
        "tries = 0\n",
        "num_of_guess = len(random_word)"
      ],
      "metadata": {
        "id": "FER0B4_Mn7gz"
      },
      "execution_count": 12,
      "outputs": []
    },
    {
      "cell_type": "code",
      "source": [
        "num_of_guess = len(random_word)\n",
        "\n",
        "guessed_word = ['_'] * len(random_word)\n",
        "\n",
        "print(\" Word Category Is :\", category)\n",
        "for i in range(num_of_guess):\n",
        "  tries = 0\n",
        "  #user can try for num_of_guess for each char guess\n",
        "  while tries < num_of_guess:\n",
        "    inp = input('Guess a character: ')\n",
        "    if inp not in  random_word:\n",
        "      tries += 1\n",
        "      print('Incorrect guess. Tries remaining: ', num_of_guess - tries)\n",
        "    else:\n",
        "      # Find all occurrences of the character in the word\n",
        "      indices = [j for j, x in enumerate(random_word) if x == inp]\n",
        "\n",
        "      for index in indices:\n",
        "        guessed_word[index] = inp\n",
        "      print(\"Correct guess! Current progress:\", ' '.join(guessed_word))\n",
        "      break  # Move to the next character\n",
        "  else:\n",
        "    print(\"You failed to guess the character. Game over!\")\n",
        "    break  # End the game\n",
        "\n",
        "print('Guessed word: ',guessed_word)\n",
        "print('The word was: ', random_word)"
      ],
      "metadata": {
        "colab": {
          "base_uri": "https://localhost:8080/"
        },
        "id": "1bvY-iYjY1Mx",
        "outputId": "c7b19d90-76d6-4e5c-957d-421f1ac54514"
      },
      "execution_count": 18,
      "outputs": [
        {
          "output_type": "stream",
          "name": "stdout",
          "text": [
            " Word Category Is : Objects\n",
            "Guess a character: c\n",
            "Correct guess! Current progress: _ _ _ c _ _\n",
            "Guess a character: p\n",
            "Correct guess! Current progress: p _ _ c _ _\n",
            "Guess a character: e\n",
            "Correct guess! Current progress: p e _ c _ _\n",
            "Guess a character: m\n",
            "Incorrect guess. Tries remaining:  5\n",
            "Guess a character: n\n",
            "Correct guess! Current progress: p e n c _ _\n",
            "Guess a character: i\n",
            "Correct guess! Current progress: p e n c i _\n",
            "Guess a character: l\n",
            "Correct guess! Current progress: p e n c i l\n",
            "Guessed word:  ['p', 'e', 'n', 'c', 'i', 'l']\n",
            "The word was:  pencil\n"
          ]
        }
      ]
    },
    {
      "cell_type": "code",
      "source": [],
      "metadata": {
        "id": "kCbGRkFtdcgH"
      },
      "execution_count": null,
      "outputs": []
    }
  ]
}